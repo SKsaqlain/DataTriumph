{
 "cells": [
  {
   "cell_type": "markdown",
   "metadata": {},
   "source": [
    "IMPORINTG THE REQUIRED LIBRARIES"
   ]
  },
  {
   "cell_type": "code",
   "execution_count": 1,
   "metadata": {},
   "outputs": [],
   "source": [
    "import pandas as pd\n",
    "import numpy as np\n",
    "import matplotlib.pyplot as plt\n",
    "\n"
   ]
  },
  {
   "cell_type": "markdown",
   "metadata": {},
   "source": [
    "IMPORTING THE DATASET"
   ]
  },
  {
   "cell_type": "code",
   "execution_count": 6,
   "metadata": {},
   "outputs": [],
   "source": [
    "dataset=pd.read_csv(r'dataset/BreadBasket_DMS.csv')"
   ]
  },
  {
   "cell_type": "code",
   "execution_count": 7,
   "metadata": {},
   "outputs": [
    {
     "data": {
      "text/html": [
       "<div>\n",
       "<style scoped>\n",
       "    .dataframe tbody tr th:only-of-type {\n",
       "        vertical-align: middle;\n",
       "    }\n",
       "\n",
       "    .dataframe tbody tr th {\n",
       "        vertical-align: top;\n",
       "    }\n",
       "\n",
       "    .dataframe thead th {\n",
       "        text-align: right;\n",
       "    }\n",
       "</style>\n",
       "<table border=\"1\" class=\"dataframe\">\n",
       "  <thead>\n",
       "    <tr style=\"text-align: right;\">\n",
       "      <th></th>\n",
       "      <th>Date</th>\n",
       "      <th>Time</th>\n",
       "      <th>Transaction</th>\n",
       "      <th>Item</th>\n",
       "    </tr>\n",
       "  </thead>\n",
       "  <tbody>\n",
       "    <tr>\n",
       "      <th>0</th>\n",
       "      <td>2016-10-30</td>\n",
       "      <td>09:58:11</td>\n",
       "      <td>1</td>\n",
       "      <td>Bread</td>\n",
       "    </tr>\n",
       "    <tr>\n",
       "      <th>1</th>\n",
       "      <td>2016-10-30</td>\n",
       "      <td>10:05:34</td>\n",
       "      <td>2</td>\n",
       "      <td>Scandinavian</td>\n",
       "    </tr>\n",
       "    <tr>\n",
       "      <th>2</th>\n",
       "      <td>2016-10-30</td>\n",
       "      <td>10:05:34</td>\n",
       "      <td>2</td>\n",
       "      <td>Scandinavian</td>\n",
       "    </tr>\n",
       "    <tr>\n",
       "      <th>3</th>\n",
       "      <td>2016-10-30</td>\n",
       "      <td>10:07:57</td>\n",
       "      <td>3</td>\n",
       "      <td>Hot chocolate</td>\n",
       "    </tr>\n",
       "    <tr>\n",
       "      <th>4</th>\n",
       "      <td>2016-10-30</td>\n",
       "      <td>10:07:57</td>\n",
       "      <td>3</td>\n",
       "      <td>Jam</td>\n",
       "    </tr>\n",
       "  </tbody>\n",
       "</table>\n",
       "</div>"
      ],
      "text/plain": [
       "         Date      Time  Transaction           Item\n",
       "0  2016-10-30  09:58:11            1          Bread\n",
       "1  2016-10-30  10:05:34            2   Scandinavian\n",
       "2  2016-10-30  10:05:34            2   Scandinavian\n",
       "3  2016-10-30  10:07:57            3  Hot chocolate\n",
       "4  2016-10-30  10:07:57            3            Jam"
      ]
     },
     "execution_count": 7,
     "metadata": {},
     "output_type": "execute_result"
    }
   ],
   "source": [
    "dataset.head()"
   ]
  },
  {
   "cell_type": "markdown",
   "metadata": {},
   "source": [
    "CLEANING THE DATASET."
   ]
  },
  {
   "cell_type": "code",
   "execution_count": 8,
   "metadata": {},
   "outputs": [],
   "source": [
    "#dropping ROWS WHICH CONTAINS ITEMS AS NONE IN IT \n",
    "dataset=dataset.mask(dataset.eq('NONE')).dropna()\n",
    "#print(dataset.iloc[26,:])"
   ]
  },
  {
   "cell_type": "code",
   "execution_count": 9,
   "metadata": {},
   "outputs": [
    {
     "name": "stdout",
     "output_type": "stream",
     "text": [
      "{'Hearty & Seasonal', 'Nomad bag', 'Basket', 'Raw bars', 'Raspberry shortbread sandwich', 'Empanadas', 'Scone', 'Crisps', 'Caramel bites', 'Jam', 'Juice', 'Toast', 'Half slice Monster ', 'Truffles', 'The Nomad', 'Scandinavian', 'Smoothies', 'Art Tray', 'Siblings', 'Extra Salami or Feta', 'Frittata', 'Pick and Mix Bowls', 'Sandwich', 'Duck egg', 'Vegan mincepie', 'Polenta', 'Bacon', 'Drinking chocolate spoons ', 'Bread', 'Bowl Nic Pitt', 'Mighty Protein', 'Coffee granules ', 'Focaccia', 'Tea', 'Crepes', 'Granola', 'Chocolates', 'Medialuna', 'Muffin', 'Olum & polenta', 'Keeping It Local', 'Bare Popcorn', 'Pintxos', 'Salad', 'Hot chocolate', 'Brioche and salami', 'Lemon and coconut', 'Bakewell', 'Jammie Dodgers', \"Ella's Kitchen Pouches\", 'Coke', 'Argentina Night', 'Postcard', 'Chimichurri Oil', 'Afternoon with the baker', 'Panatone', 'Cherry me Dried fruit', 'Tacos/Fajita', 'Chicken Stew', 'Fairy Doors', 'Baguette', 'Brownie', 'Honey', 'Tiffin', 'Spread', 'Fudge', 'Farm House', 'Kids biscuit', 'Bread Pudding', 'Victorian Sponge', 'Tshirt', 'Christmas common', 'My-5 Fruit Shoot', 'Dulce de Leche', 'Chicken sand', 'Coffee', \"Valentine's card\", 'Gift voucher', 'Muesli', 'Spanish Brunch', 'Mortimer', 'Vegan Feast', 'Tartine', 'Cookies', 'Pastry', 'The BART', 'Alfajores', 'Adjustment', 'Hack the stack', 'Eggs', 'Mineral water', 'Soup', 'Gingerbread syrup', 'Cake'}\n",
      "94\n"
     ]
    }
   ],
   "source": [
    "unique_set_items=set(dataset.Item)\n",
    "print(unique_set_items)\n",
    "print(len(unique_set_items))"
   ]
  },
  {
   "cell_type": "code",
   "execution_count": 10,
   "metadata": {},
   "outputs": [
    {
     "name": "stdout",
     "output_type": "stream",
     "text": [
      "TOTAL NUMBER OF TRANSACTIONS 9465\n"
     ]
    }
   ],
   "source": [
    "print(\"TOTAL NUMBER OF TRANSACTIONS %d\"%(len(set(dataset.Transaction))))"
   ]
  },
  {
   "cell_type": "code",
   "execution_count": 12,
   "metadata": {},
   "outputs": [],
   "source": [
    "#GETTING ALL THE ITEMS IN EACH TRANSACTION\n",
    "transactions=dataset.groupby('Transaction')\n",
    "transaction_list=list()\n",
    "\n",
    "#OPENING FILE TO WRITE THE PROCESSED DATASET INTO.\n",
    "processed_1=open(\"dataset/processed_1.csv\",\"w\")\n",
    "#WRITING THE HEADER INFORMATION TO THE OPENED FILE.\n",
    "processed_1.write(\"Transaction,Date,Time,Items\\n\")\n",
    "#FOR EACH TRANSACTION \n",
    "for trans,group in transactions:\n",
    "    \n",
    "    #GETTING ALL THE ITMES ,TIME WHEN THE TRANSACTION WAS  MADE AND DATE .\n",
    "    transaction_list.append([trans,list(group.Date)[0],list(group.Time)[0],list(set(group.Item))])\n",
    "    # | is used to separate the items of a transaction in the processed csv file.\n",
    "    #JOINING ALL THE TRANSACTION TO A SINGEL STRING SO THAT IT CAN BE WRITTEN TO THE CSV FILE\n",
    "    items=\"|\".join(list(set(group.Item)))\n",
    "    #REPLACING ',' WITH WHITE SPACE SO THAT THE TRANSACTION OCCUPIES SINGLE CELL IN THE CSV FILE.\n",
    "    #writing processed data to a file.\n",
    "    data=str(trans)+','+list(group.Date)[0]+','+list(group.Time)[0]+','+items+'\\n'\n",
    "    processed_1.write(data)\n",
    "    \n",
    "#print(transaction_list)\n",
    "processed_1.close()    \n",
    "        \n",
    "    "
   ]
  },
  {
   "cell_type": "code",
   "execution_count": 13,
   "metadata": {},
   "outputs": [
    {
     "data": {
      "text/html": [
       "<div>\n",
       "<style scoped>\n",
       "    .dataframe tbody tr th:only-of-type {\n",
       "        vertical-align: middle;\n",
       "    }\n",
       "\n",
       "    .dataframe tbody tr th {\n",
       "        vertical-align: top;\n",
       "    }\n",
       "\n",
       "    .dataframe thead th {\n",
       "        text-align: right;\n",
       "    }\n",
       "</style>\n",
       "<table border=\"1\" class=\"dataframe\">\n",
       "  <thead>\n",
       "    <tr style=\"text-align: right;\">\n",
       "      <th></th>\n",
       "      <th>Transaction</th>\n",
       "      <th>Date</th>\n",
       "      <th>Time</th>\n",
       "      <th>Items</th>\n",
       "    </tr>\n",
       "  </thead>\n",
       "  <tbody>\n",
       "    <tr>\n",
       "      <th>0</th>\n",
       "      <td>1</td>\n",
       "      <td>2016-10-30</td>\n",
       "      <td>09:58:11</td>\n",
       "      <td>Bread</td>\n",
       "    </tr>\n",
       "    <tr>\n",
       "      <th>1</th>\n",
       "      <td>2</td>\n",
       "      <td>2016-10-30</td>\n",
       "      <td>10:05:34</td>\n",
       "      <td>Scandinavian</td>\n",
       "    </tr>\n",
       "    <tr>\n",
       "      <th>2</th>\n",
       "      <td>3</td>\n",
       "      <td>2016-10-30</td>\n",
       "      <td>10:07:57</td>\n",
       "      <td>Hot chocolate|Jam|Cookies</td>\n",
       "    </tr>\n",
       "    <tr>\n",
       "      <th>3</th>\n",
       "      <td>4</td>\n",
       "      <td>2016-10-30</td>\n",
       "      <td>10:08:41</td>\n",
       "      <td>Muffin</td>\n",
       "    </tr>\n",
       "    <tr>\n",
       "      <th>4</th>\n",
       "      <td>5</td>\n",
       "      <td>2016-10-30</td>\n",
       "      <td>10:13:03</td>\n",
       "      <td>Coffee|Bread|Pastry</td>\n",
       "    </tr>\n",
       "  </tbody>\n",
       "</table>\n",
       "</div>"
      ],
      "text/plain": [
       "   Transaction        Date      Time                      Items\n",
       "0            1  2016-10-30  09:58:11                      Bread\n",
       "1            2  2016-10-30  10:05:34               Scandinavian\n",
       "2            3  2016-10-30  10:07:57  Hot chocolate|Jam|Cookies\n",
       "3            4  2016-10-30  10:08:41                     Muffin\n",
       "4            5  2016-10-30  10:13:03        Coffee|Bread|Pastry"
      ]
     },
     "execution_count": 13,
     "metadata": {},
     "output_type": "execute_result"
    }
   ],
   "source": [
    "processed_1=pd.read_csv(\"dataset/processed_1.csv\")\n",
    "processed_1.head()"
   ]
  },
  {
   "cell_type": "code",
   "execution_count": null,
   "metadata": {},
   "outputs": [],
   "source": []
  }
 ],
 "metadata": {
  "kernelspec": {
   "display_name": "Python 3",
   "language": "python",
   "name": "python3"
  },
  "language_info": {
   "codemirror_mode": {
    "name": "ipython",
    "version": 3
   },
   "file_extension": ".py",
   "mimetype": "text/x-python",
   "name": "python",
   "nbconvert_exporter": "python",
   "pygments_lexer": "ipython3",
   "version": "3.6.5"
  }
 },
 "nbformat": 4,
 "nbformat_minor": 2
}
