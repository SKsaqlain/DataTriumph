{
 "cells": [
  {
   "cell_type": "markdown",
   "metadata": {},
   "source": [
    "IMPORTING THE REQUIRED LIBRARIES"
   ]
  },
  {
   "cell_type": "code",
   "execution_count": 13,
   "metadata": {},
   "outputs": [],
   "source": [
    "import pandas as pd\n",
    "import numpy as np\n",
    "import matplotlib.pyplot as plt"
   ]
  },
  {
   "cell_type": "markdown",
   "metadata": {},
   "source": [
    "MODEL TO FIND FREQUENT ITEM SETS AND RULES.<br/>\n",
    "MODEL TESTED ON Bakery DATASET."
   ]
  },
  {
   "cell_type": "code",
   "execution_count": 14,
   "metadata": {},
   "outputs": [],
   "source": [
    "#FREQUENT ITEMSET METHOD :\n",
    "#FINDING FREQUENT ITEMSET USING APRIORI ALGORITHMS\n",
    "def loadDataset():\n",
    "    #loading the processed_1.csv dataset which is obtained by processing the bakery-transaction dataset\n",
    "    dataset=pd.read_csv(r'dataset/processed_1.csv')\n",
    "    transactions=list()\n",
    "    #converting the transaction to a list and appending it to the transaction list. \n",
    "    for i in range(len(dataset.Items)):\n",
    "        itm=dataset.Items[i].strip().split(\"|\")\n",
    "        transactions.append(itm)\n",
    "    #returning the transaction list\n",
    "    return transactions\n",
    "\n",
    "#function to get all unique transactions \n",
    "def createC1(dataset):\n",
    "    c1=[]\n",
    "    for transaction in dataset:\n",
    "        for item in transaction:\n",
    "            if not [item] in c1:\n",
    "                c1.append([item])\n",
    "    c1.sort()\n",
    "    return list(map(frozenset,c1))\n",
    "\n",
    "#function to calculate support of each itemset.\n",
    "def scand(d,ck,minSupport):\n",
    "    sscnt={}\n",
    "    #foreach transaction in the dataset\n",
    "    for tid in d:\n",
    "        #for each candidate in the candidate list\n",
    "        for can in ck:\n",
    "            #if that candidate is present in the currend transaction \n",
    "            if can.issubset(tid):\n",
    "                #if not there in the dict initialize\n",
    "                if can not in sscnt.keys():\n",
    "                    sscnt[can]=1\n",
    "                #otherwise increment the value of the corresponding key\n",
    "                else:\n",
    "                    sscnt[can]+=1\n",
    "    #finding the total number of trnasactions\n",
    "    numItems=float(len(d))\n",
    "    #list to hold the items that satisfies the minimum support\n",
    "    retList=list()\n",
    "    #dict to hold the support of various candidates\n",
    "    supportData={}\n",
    "    #loop to find the support of each itemset\n",
    "    for key in sscnt:\n",
    "        \n",
    "        support=sscnt[key]/numItems\n",
    "        if support>=minSupport:\n",
    "            retList.insert(0,key)\n",
    "        supportData[key]=support\n",
    "    #retruning list whcih contains frequent sets. and supports of all the item sets\n",
    "    return retList,supportData\n",
    "\n"
   ]
  },
  {
   "cell_type": "code",
   "execution_count": 15,
   "metadata": {},
   "outputs": [],
   "source": [
    "#loading the dataset\n",
    "dataset=loadDataset()\n",
    "c1=createC1(dataset)\n",
    "l1,supData=scand(dataset,c1,0.1 )"
   ]
  },
  {
   "cell_type": "code",
   "execution_count": 16,
   "metadata": {},
   "outputs": [
    {
     "name": "stdout",
     "output_type": "stream",
     "text": [
      "[frozenset({'Cake'}), frozenset({'Tea'}), frozenset({'Coffee'}), frozenset({'Bread'})]\n",
      "{frozenset({'Bread'}): 0.32720549392498677, frozenset({'Scandinavian'}): 0.029054410987849975, frozenset({'Cookies'}): 0.054410987849973586, frozenset({'Hot chocolate'}): 0.05832012678288431, frozenset({'Jam'}): 0.015002641310089805, frozenset({'Muffin'}): 0.03845747490755415, frozenset({'Coffee'}): 0.47839408346539886, frozenset({'Pastry'}): 0.0861067089276281, frozenset({'Medialuna'}): 0.061806656101426306, frozenset({'Tea'}): 0.14263074484944532, frozenset({'Tartine'}): 0.004860010565240359, frozenset({'Basket'}): 0.0006339144215530904, frozenset({'Mineral water'}): 0.014157422081352351, frozenset({'Farm House'}): 0.03919704173269942, frozenset({'Fudge'}): 0.015002641310089805, frozenset({'Juice'}): 0.03856312731114633, frozenset({\"Ella's Kitchen Pouches\"}): 0.0017960908610670893, frozenset({'Victorian Sponge'}): 0.0007395668251452721, frozenset({'Frittata'}): 0.00855784469096672, frozenset({'Hearty & Seasonal'}): 0.010565240359218173, frozenset({'Soup'}): 0.03444268357105124, frozenset({'Pick and Mix Bowls'}): 0.0012678288431061807, frozenset({'Smoothies'}): 0.008135235076597993, frozenset({'Cake'}): 0.10385631273111463, frozenset({'Mighty Protein'}): 0.001162176439513999, frozenset({'Chicken sand'}): 0.00010565240359218173, frozenset({'Coke'}): 0.019440042260961438, frozenset({'My-5 Fruit Shoot'}): 0.001901743264659271, frozenset({'Focaccia'}): 0.005705229793977813, frozenset({'Sandwich'}): 0.07184363444268357, frozenset({'Alfajores'}): 0.036344426835710514, frozenset({'Eggs'}): 0.0029582673005810883, frozenset({'Brownie'}): 0.04004226096143687, frozenset({'Dulce de Leche'}): 0.0013734812466983624, frozenset({'Honey'}): 0.0006339144215530904, frozenset({'The BART'}): 0.00010565240359218173, frozenset({'Granola'}): 0.0029582673005810883, frozenset({'Fairy Doors'}): 0.00021130480718436345, frozenset({'Empanadas'}): 0.0007395668251452721, frozenset({'Keeping It Local'}): 0.006656101426307449, frozenset({'Art Tray'}): 0.004014791336502906, frozenset({'Bowl Nic Pitt'}): 0.00021130480718436345, frozenset({'Bread Pudding'}): 0.0004226096143687269, frozenset({'Adjustment'}): 0.00010565240359218173, frozenset({'Truffles'}): 0.02028526148969889, frozenset({'Chimichurri Oil'}): 0.00021130480718436345, frozenset({'Bacon'}): 0.00010565240359218173, frozenset({'Spread'}): 0.00021130480718436345, frozenset({'Kids biscuit'}): 0.0012678288431061807, frozenset({'Siblings'}): 0.00021130480718436345, frozenset({'Caramel bites'}): 0.0003169572107765452, frozenset({'Jammie Dodgers'}): 0.013206550449022716, frozenset({'Tiffin'}): 0.015425250924458532, frozenset({'Olum & polenta'}): 0.00010565240359218173, frozenset({'Polenta'}): 0.00010565240359218173, frozenset({'The Nomad'}): 0.00612783940834654, frozenset({'Hack the stack'}): 0.00021130480718436345, frozenset({'Bakewell'}): 0.005071315372424723, frozenset({'Lemon and coconut'}): 0.0006339144215530904, frozenset({'Toast'}): 0.03359746434231379, frozenset({'Scone'}): 0.03454833597464342, frozenset({'Crepes'}): 0.0006339144215530904, frozenset({'Vegan mincepie'}): 0.00549392498679345, frozenset({'Bare Popcorn'}): 0.0005282620179609086, frozenset({'Muesli'}): 0.0008452192287374538, frozenset({'Crisps'}): 0.0014791336502905442, frozenset({'Pintxos'}): 0.0006339144215530904, frozenset({'Gingerbread syrup'}): 0.0009508716323296355, frozenset({'Panatone'}): 0.0005282620179609086, frozenset({'Brioche and salami'}): 0.0003169572107765452, frozenset({'Afternoon with the baker'}): 0.004543053354463814, frozenset({'Salad'}): 0.010459587955625991, frozenset({'Chicken Stew'}): 0.012995245641838352, frozenset({'Spanish Brunch'}): 0.018172213417855257, frozenset({'Raspberry shortbread sandwich'}): 0.0003169572107765452, frozenset({'Extra Salami or Feta'}): 0.004014791336502906, frozenset({'Duck egg'}): 0.0012678288431061807, frozenset({'Baguette'}): 0.016059165346011622, frozenset({\"Valentine's card\"}): 0.0013734812466983624, frozenset({'Tshirt'}): 0.0022187004754358162, frozenset({'Vegan Feast'}): 0.0016904384574749076, frozenset({'Postcard'}): 0.0010565240359218173, frozenset({'Nomad bag'}): 0.0008452192287374538, frozenset({'Chocolates'}): 0.0009508716323296355, frozenset({'Coffee granules '}): 0.0003169572107765452, frozenset({'Drinking chocolate spoons'}): 0.0005282620179609086, frozenset({'Christmas common'}): 0.001162176439513999, frozenset({'Drinking chocolate spoons '}): 0.0003169572107765452, frozenset({'Argentina Night'}): 0.0007395668251452721, frozenset({'Half slice Monster'}): 0.0005282620179609086, frozenset({'Gift voucher'}): 0.00010565240359218173, frozenset({'Cherry me Dried fruit'}): 0.0003169572107765452, frozenset({'Mortimer'}): 0.0005282620179609086, frozenset({'Coffee granules'}): 0.0004226096143687269, frozenset({'Half slice Monster '}): 0.00010565240359218173, frozenset({'Raw bars'}): 0.00010565240359218173, frozenset({'Tacos/Fajita'}): 0.001162176439513999}\n"
     ]
    }
   ],
   "source": [
    "print(l1)\n",
    "print(supData)\n"
   ]
  },
  {
   "cell_type": "code",
   "execution_count": 17,
   "metadata": {},
   "outputs": [],
   "source": [
    "#function ro find support for given length of itemsets\n",
    "def aprioriGen(lk,k):\n",
    "    retList=[]\n",
    "    lenlk=len(lk)\n",
    "    for i in range(lenlk):\n",
    "        for j in range(i+1,lenlk):\n",
    "            #join sets if first k-2 items are equal\n",
    "            l1=list(lk[i])[:k-2]\n",
    "            l2=list(lk[j])[:k-2]\n",
    "            l1.sort()\n",
    "            l2.sort()\n",
    "            if l1==l2:\n",
    "                retList.append(lk[i] | lk[j])\n",
    "    return retList\n",
    "def apriori(dataset,minsupport=0.2):\n",
    "    #generating candidate itmes\n",
    "    c1=createC1(dataset)\n",
    "    #frequent itemssets with one item\n",
    "    l1,supportData=scand(dataset,c1,minsupport)\n",
    "    \n",
    "    l=[l1]\n",
    "    #starting to generate fequent itemset from two items onwards\n",
    "    k=2\n",
    "    while(len(l[k-2])>0):\n",
    "        #generating candidate sets with k items\n",
    "        ck=aprioriGen(l[k-2],k)\n",
    "        \n",
    "        lk,supk=scand(dataset,ck,minsupport)\n",
    "        supportData.update(supk)\n",
    "        l.append(lk)\n",
    "        k+=1\n",
    "    return l,supportData\n"
   ]
  },
  {
   "cell_type": "code",
   "execution_count": 18,
   "metadata": {},
   "outputs": [
    {
     "name": "stdout",
     "output_type": "stream",
     "text": [
      "[frozenset({'Sandwich'}), frozenset({'Cake'}), frozenset({'Tea'}), frozenset({'Pastry'}), frozenset({'Coffee'}), frozenset({'Bread'})]\n",
      "\n",
      "[frozenset({'Bread', 'Coffee'})]\n",
      "\n",
      "[]\n",
      "\n"
     ]
    }
   ],
   "source": [
    "l,supportData=apriori(dataset,minsupport=0.07)\n",
    "for i in range(len(l)):\n",
    "    print(l[i])\n",
    "    print()"
   ]
  },
  {
   "cell_type": "code",
   "execution_count": 19,
   "metadata": {},
   "outputs": [],
   "source": [
    "#function to generate apriori rules.\n",
    "def generateRules(L,supportData,minconf=0.5):\n",
    "    bigRuleList=list()\n",
    "    for i in range(1,len(L)):\n",
    "        for freqSet in L[i]:\n",
    "            H1=[frozenset([item] for item in freqSet)]\n",
    "            if(i>1):\n",
    "                rulesFromConseq(freqSet,H1,supportData,bigRuleList,minconf)\n",
    "            else:\n",
    "                calcConf(freqSet,H1,supportData,bigRuleList,minconf)\n",
    "    return bigRuleList\n",
    "def calcConf(freqSet,H,supportData,brl,minconf=0.5):\n",
    "    prunedH=list()\n",
    "    for conseq in H:\n",
    "        conf=supportData[freqSet]/supportData[freqSet-conseq]\n",
    "        if cong>=minconf:\n",
    "            print(freqSet-conseq,'--->',conseq,'conf:',conf)\n",
    "            brl.append((freqSet-conseq,conseq,conf))\n",
    "            prunedH.append(conseq)\n",
    "    return prunedH\n",
    "def rulesFromConseq(freqSet,H,supportData,brl,minconf=0.5):\n",
    "    m=len(H[0])\n",
    "    if(len(freqSet)>(m+1)):\n",
    "        Hmp1=aprioriGen(H,m+1)\n",
    "        Hmp1=calcConf(freqSet,Hmp1,supportData,br1,minconf)\n",
    "        if(len(Hmp1)>1):\n",
    "            rulesFromConseq(freqSet,Hmp1,supportData,brl,minconf)\n",
    "    "
   ]
  },
  {
   "cell_type": "code",
   "execution_count": 20,
   "metadata": {},
   "outputs": [
    {
     "name": "stdout",
     "output_type": "stream",
     "text": [
      "[]\n"
     ]
    }
   ],
   "source": [
    "dataset=loadDataset()\n",
    "c1=createC1(dataset)\n",
    "D=map(set,dataset)\n",
    "\n",
    "L,suppData=apriori(dataset)\n",
    "rules=generateRules(L,suppData,minconf=0.00007)\n",
    "print(rules)\n",
    "#the dataset being so sparse that it fails to generate any apriori rules eventhough the minconf is so small."
   ]
  }
 ],
 "metadata": {
  "kernelspec": {
   "display_name": "Python 3",
   "language": "python",
   "name": "python3"
  },
  "language_info": {
   "codemirror_mode": {
    "name": "ipython",
    "version": 3
   },
   "file_extension": ".py",
   "mimetype": "text/x-python",
   "name": "python",
   "nbconvert_exporter": "python",
   "pygments_lexer": "ipython3",
   "version": "3.6.5"
  }
 },
 "nbformat": 4,
 "nbformat_minor": 2
}
