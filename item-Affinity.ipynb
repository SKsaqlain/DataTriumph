{
 "cells": [
  {
   "cell_type": "markdown",
   "metadata": {},
   "source": [
    "IMPORTING THE REQUIRED LIBRARIES"
   ]
  },
  {
   "cell_type": "code",
   "execution_count": 1,
   "metadata": {},
   "outputs": [],
   "source": [
    "import pandas as pd\n",
    "import numpy as np"
   ]
  },
  {
   "cell_type": "markdown",
   "metadata": {},
   "source": [
    "LOADING THE DATASET"
   ]
  },
  {
   "cell_type": "code",
   "execution_count": 2,
   "metadata": {},
   "outputs": [
    {
     "name": "stdout",
     "output_type": "stream",
     "text": [
      "94\n"
     ]
    }
   ],
   "source": [
    "old_dataset=pd.read_csv(r'dataset/BreadBasket_DMS.csv')\n",
    "#old_dataset=dataset.mask(old_dataset.eq('NONE')).dropna()\n",
    "old_dataset = old_dataset[old_dataset.Item != 'NONE']\n",
    "unique_set_items=set(old_dataset.Item)\n",
    "print(len(unique_set_items))"
   ]
  },
  {
   "cell_type": "code",
   "execution_count": 3,
   "metadata": {},
   "outputs": [
    {
     "name": "stdout",
     "output_type": "stream",
     "text": [
      "['Muffin', 'Drinking chocolate spoons ', \"Ella's Kitchen Pouches\", 'Mighty Protein', 'Jammie Dodgers', 'Victorian Sponge', 'Tiffin', 'Nomad bag', 'Baguette', 'Mineral water', 'Bread Pudding', 'Bare Popcorn', 'Afternoon with the baker', 'Gingerbread syrup', 'Truffles', 'Cherry me Dried fruit', 'Hot chocolate', 'My-5 Fruit Shoot', 'Scandinavian', 'Medialuna', 'Soup', 'Spanish Brunch', 'The Nomad', 'Argentina Night', 'Bakewell', 'Crepes', 'Coffee granules ', 'Kids biscuit', 'Chicken sand', 'Sandwich', 'Olum & polenta', 'Half slice Monster ', 'Salad', 'The BART', 'Tea', 'Gift voucher', 'Toast', 'Hack the stack', 'Muesli', 'Fairy Doors', 'Coffee', 'Scone', 'Dulce de Leche', 'Cookies', 'Vegan mincepie', 'Bacon', 'Art Tray', 'Postcard', 'Raw bars', 'Coke', 'Extra Salami or Feta', 'Pastry', 'Tartine', 'Tshirt', 'Tacos/Fajita', 'Fudge', 'Hearty & Seasonal', \"Valentine's card\", 'Spread', 'Bowl Nic Pitt', 'Eggs', 'Chimichurri Oil', 'Duck egg', 'Granola', 'Cake', 'Bread', 'Brownie', 'Juice', 'Jam', 'Crisps', 'Keeping It Local', 'Raspberry shortbread sandwich', 'Basket', 'Frittata', 'Honey', 'Polenta', 'Panatone', 'Focaccia', 'Pick and Mix Bowls', 'Brioche and salami', 'Smoothies', 'Christmas common', 'Chicken Stew', 'Empanadas', 'Alfajores', 'Mortimer', 'Siblings', 'Chocolates', 'Farm House', 'Vegan Feast', 'Lemon and coconut', 'Pintxos', 'Adjustment', 'Caramel bites']\n",
      "         Date      Time  Transaction           Item\n",
      "0  2016-10-30  09:58:11            1          Bread\n",
      "1  2016-10-30  10:05:34            2   Scandinavian\n",
      "2  2016-10-30  10:05:34            2   Scandinavian\n",
      "3  2016-10-30  10:07:57            3  Hot chocolate\n",
      "4  2016-10-30  10:07:57            3            Jam\n"
     ]
    }
   ],
   "source": [
    "#INDEX LIST THAT MAPS ITESMS TO ITS INDEX FOR VECTORISATION\n",
    "items_index=list(unique_set_items)\n",
    "print(items_index)\n",
    "print(old_dataset.head())"
   ]
  },
  {
   "cell_type": "markdown",
   "metadata": {},
   "source": [
    "RECOMMENDATION SYSTEM BASED ON ITEM-ITEM SIMILARITY"
   ]
  },
  {
   "cell_type": "code",
   "execution_count": 4,
   "metadata": {},
   "outputs": [
    {
     "data": {
      "text/html": [
       "<div>\n",
       "<style scoped>\n",
       "    .dataframe tbody tr th:only-of-type {\n",
       "        vertical-align: middle;\n",
       "    }\n",
       "\n",
       "    .dataframe tbody tr th {\n",
       "        vertical-align: top;\n",
       "    }\n",
       "\n",
       "    .dataframe thead th {\n",
       "        text-align: right;\n",
       "    }\n",
       "</style>\n",
       "<table border=\"1\" class=\"dataframe\">\n",
       "  <thead>\n",
       "    <tr style=\"text-align: right;\">\n",
       "      <th></th>\n",
       "      <th>item1</th>\n",
       "      <th>item2</th>\n",
       "      <th>score</th>\n",
       "    </tr>\n",
       "  </thead>\n",
       "  <tbody>\n",
       "    <tr>\n",
       "      <th>0</th>\n",
       "      <td>Drinking chocolate spoons</td>\n",
       "      <td>Muffin</td>\n",
       "      <td>0.000106</td>\n",
       "    </tr>\n",
       "    <tr>\n",
       "      <th>1</th>\n",
       "      <td>Ella's Kitchen Pouches</td>\n",
       "      <td>Muffin</td>\n",
       "      <td>0.000211</td>\n",
       "    </tr>\n",
       "    <tr>\n",
       "      <th>2</th>\n",
       "      <td>Mighty Protein</td>\n",
       "      <td>Muffin</td>\n",
       "      <td>0.000000</td>\n",
       "    </tr>\n",
       "    <tr>\n",
       "      <th>3</th>\n",
       "      <td>Jammie Dodgers</td>\n",
       "      <td>Muffin</td>\n",
       "      <td>0.000951</td>\n",
       "    </tr>\n",
       "    <tr>\n",
       "      <th>4</th>\n",
       "      <td>Victorian Sponge</td>\n",
       "      <td>Muffin</td>\n",
       "      <td>0.000000</td>\n",
       "    </tr>\n",
       "  </tbody>\n",
       "</table>\n",
       "</div>"
      ],
      "text/plain": [
       "                        item1   item2     score\n",
       "0  Drinking chocolate spoons   Muffin  0.000106\n",
       "1      Ella's Kitchen Pouches  Muffin  0.000211\n",
       "2              Mighty Protein  Muffin  0.000000\n",
       "3              Jammie Dodgers  Muffin  0.000951\n",
       "4            Victorian Sponge  Muffin  0.000000"
      ]
     },
     "execution_count": 4,
     "metadata": {},
     "output_type": "execute_result"
    }
   ],
   "source": [
    "\n",
    "\n",
    "#get list of unique items\n",
    "itemList=list(set(old_dataset[\"Item\"].tolist()))\n",
    "#get count of  transactions\n",
    "transactionLength=len(list(set(old_dataset[\"Transaction\"].tolist())))\n",
    "\n",
    "#creating an empty data frame to store item affinity score for items.\n",
    "itemAffinity=pd.DataFrame(columns=(\"item1\",\"item2\",\"score\"))\n",
    "rowcount=0\n",
    "\n",
    "for item1 in range(len(itemList)):\n",
    "    #getting the list of transaction which has this item 1\n",
    "    item1trans=old_dataset[old_dataset.Item==itemList[item1]][\"Transaction\"].tolist()\n",
    "    #getting the item2 that are not in item 1 or not analysed already\n",
    "    \n",
    "    for item2 in range(item1,len(itemList)):\n",
    "        if(item1==item2):\n",
    "            continue\n",
    "        #get the list of transaction who bought item 2\n",
    "        item2trans=old_dataset[old_dataset.Item==itemList[item2]][\"Transaction\"].tolist()\n",
    "        #finding the common list of trnas and divide it by total number of trans\n",
    "        commonTrans=len(set(item1trans).intersection(set(item2trans)))\n",
    "        score=commonTrans/transactionLength\n",
    "        \n",
    "        itemAffinity.loc[rowcount]=[itemList[item2],itemList[item1],score]\n",
    "        rowcount+=1\n",
    "\n",
    "itemAffinity.head()"
   ]
  },
  {
   "cell_type": "code",
   "execution_count": 5,
   "metadata": {},
   "outputs": [
    {
     "name": "stdout",
     "output_type": "stream",
     "text": [
      "Recommnedations for item coffee\n",
      "          item2     score\n",
      "2606        Tea  0.049868\n",
      "2301   Sandwich  0.038246\n",
      "1616  Medialuna  0.035182\n"
     ]
    }
   ],
   "source": [
    "#recommending the top 3 produts to the user if the transaction is something like given below.\n",
    "searchItem=\"Coffee\"\n",
    "recoList=itemAffinity[itemAffinity.item1==searchItem][[\"item2\",\"score\"]].sort_values(\"score\",ascending=[0])\n",
    "print(\"Recommnedations for item coffee\")\n",
    "print(recoList.head(3))"
   ]
  },
  {
   "cell_type": "code",
   "execution_count": null,
   "metadata": {},
   "outputs": [],
   "source": []
  },
  {
   "cell_type": "code",
   "execution_count": null,
   "metadata": {},
   "outputs": [],
   "source": []
  }
 ],
 "metadata": {
  "kernelspec": {
   "display_name": "Python 3",
   "language": "python",
   "name": "python3"
  },
  "language_info": {
   "codemirror_mode": {
    "name": "ipython",
    "version": 3
   },
   "file_extension": ".py",
   "mimetype": "text/x-python",
   "name": "python",
   "nbconvert_exporter": "python",
   "pygments_lexer": "ipython3",
   "version": "3.6.5"
  }
 },
 "nbformat": 4,
 "nbformat_minor": 2
}
